{
 "cells": [
  {
   "cell_type": "markdown",
   "id": "2a628f70",
   "metadata": {},
   "source": [
    "### Part 1)\n",
    "Make a almost basis for the image in lines."
   ]
  },
  {
   "cell_type": "code",
   "execution_count": 2,
   "id": "75687a95",
   "metadata": {},
   "outputs": [],
   "source": [
    "import numpy as np\n",
    "import matplotlib.pyplot as plt\n",
    "from tqdm import tqdm\n",
    "import matplotlib.image as mpimg"
   ]
  },
  {
   "cell_type": "code",
   "execution_count": 7,
   "id": "525e93b6",
   "metadata": {},
   "outputs": [
    {
     "name": "stdout",
     "output_type": "stream",
     "text": [
      "100 100\n"
     ]
    }
   ],
   "source": [
    "#getting the image\n",
    "image = mpimg.imread('AAA.jpg')\n",
    "\n",
    "n, m, _ = image.shape\n",
    "image = image[:,:,0]\n",
    "print(n,m)"
   ]
  },
  {
   "cell_type": "code",
   "execution_count": null,
   "id": "dc4dea4d",
   "metadata": {},
   "outputs": [],
   "source": [
    "def darkness_score(scalar):\n",
    "    return max(0,-abs(scalar)*0.1+1) #Change this to make line thicker or thinner"
   ]
  },
  {
   "cell_type": "code",
   "execution_count": 53,
   "id": "0f8c3a81",
   "metadata": {},
   "outputs": [],
   "source": [
    "# Function for making a vector out of every line\n",
    "def line_vector(angle_1,angle_2 , R, image_size):\n",
    "    rows , cols = image_size\n",
    "    \n",
    "    #line end 1\n",
    "    x_0 = R * np.cos(angle_1) \n",
    "    y_0 = R * np.sin(angle_1)\n",
    "    #line end 2\n",
    "    x_1 = R * np.cos(angle_2)\n",
    "    y_1 = R * np.sin(angle_2)\n",
    "\n",
    "    norm = np.sqrt((x_1 - x_0)**2 + (y_1 - y_0)**2)\n",
    "\n",
    "    A = 1/norm * np.array([\n",
    "        [x_1 - x_0 ,-(y_1 - y_0)],\n",
    "        [y_1 - y_0 , x_1 - x_0]\n",
    "    ])\n",
    "    #print('Size:',rows,cols)\n",
    "    # Making a zero_matrix to fill\n",
    "    string_vector = np.zeros((n,m))\n",
    "\n",
    "    for i in range(rows):\n",
    "        for j in range(cols):\n",
    "            p = np.array([ [j - cols/2] , \n",
    "                           [rows/2 - i] ])\n",
    "            x = np.linalg.solve(A,p)\n",
    "            string_vector[i,j] = darkness_score(x[1])\n",
    "\n",
    "    #return string_vector test if image looks right\n",
    "    return np.ndarray.flatten(string_vector)\n",
    "            \n",
    "\n",
    "#plt.imshow(line_vector(2*np.pi/10 * 2,2*np.pi/10 * 5 , min(n/2,m/2), (n,m)))"
   ]
  },
  {
   "cell_type": "code",
   "execution_count": 54,
   "id": "0a4ea2c4",
   "metadata": {},
   "outputs": [
    {
     "name": "stdout",
     "output_type": "stream",
     "text": [
      "45\n"
     ]
    }
   ],
   "source": [
    "#defining shit\n",
    "radius = min(n/2,m/2) #the radius is half of the smallest of the width and hight\n",
    "N = 10                #numbers of points around the circle evenly spaced\n",
    "number_of_lines = int(N * (N - 1) / 2)\n",
    "print(number_of_lines)"
   ]
  },
  {
   "cell_type": "code",
   "execution_count": 70,
   "id": "36301ceb",
   "metadata": {},
   "outputs": [
    {
     "name": "stdout",
     "output_type": "stream",
     "text": [
      "shape of matrix (10000, 45)\n"
     ]
    }
   ],
   "source": [
    "#Making a Matrix of all possible lines.\n",
    "\n",
    "string_matrix = np.zeros((n*m,number_of_lines))\n",
    "counter = 0\n",
    "for i in range(N):\n",
    "    for j in range(i+1,N):\n",
    "        angle_1 = 2*np.pi/N * i\n",
    "        angle_2 = 2*np.pi/N * j\n",
    "        string_matrix[:,counter] = line_vector(angle_1,angle_2 , radius, (n,m))\n",
    "        counter +=1\n",
    "\n",
    "\n",
    "print('shape of matrix' ,string_matrix.shape) \n"
   ]
  }
 ],
 "metadata": {
  "kernelspec": {
   "display_name": "Python 3",
   "language": "python",
   "name": "python3"
  },
  "language_info": {
   "codemirror_mode": {
    "name": "ipython",
    "version": 3
   },
   "file_extension": ".py",
   "mimetype": "text/x-python",
   "name": "python",
   "nbconvert_exporter": "python",
   "pygments_lexer": "ipython3",
   "version": "3.10.11"
  }
 },
 "nbformat": 4,
 "nbformat_minor": 5
}
